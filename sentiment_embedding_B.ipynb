{
 "cells": [
  {
   "cell_type": "code",
   "execution_count": 1,
   "metadata": {},
   "outputs": [
    {
     "name": "stderr",
     "output_type": "stream",
     "text": [
      "[nltk_data] Downloading package stopwords to\n",
      "[nltk_data]     /Users/ruiheinonen/nltk_data...\n",
      "[nltk_data]   Package stopwords is already up-to-date!\n",
      "[nltk_data] Downloading package punkt to\n",
      "[nltk_data]     /Users/ruiheinonen/nltk_data...\n",
      "[nltk_data]   Package punkt is already up-to-date!\n",
      "[nltk_data] Downloading package wordnet to\n",
      "[nltk_data]     /Users/ruiheinonen/nltk_data...\n",
      "[nltk_data]   Package wordnet is already up-to-date!\n"
     ]
    }
   ],
   "source": [
    "#pip install numpy==1.19.5\n",
    "#pip install scipy==1.6.1\n",
    "import numpy as np\n",
    "import pandas as pd\n",
    "\n",
    "import matplotlib as mpl\n",
    "import matplotlib.pyplot as plt \n",
    "from sklearn.preprocessing import LabelEncoder\n",
    "\n",
    "import tensorflow as tf\n",
    "import tensorflow.keras\n",
    "from tensorflow.keras.preprocessing.text import Tokenizer\n",
    "from tensorflow.keras.preprocessing.sequence import pad_sequences\n",
    "from tensorflow.keras import layers\n",
    "from tensorflow.keras import models \n",
    "from tensorflow.keras import Input\n",
    "from tensorflow.keras.layers import Embedding, Dense, LSTM, Conv1D, MaxPool1D, Dropout, Flatten\n",
    "from tensorflow.keras import backend as K\n",
    "from tensorflow.keras.models import Model\n",
    "from tensorflow.keras import optimizers\n",
    "from tensorflow.keras.callbacks import EarlyStopping\n",
    "from tensorflow.keras.metrics import Precision, Recall\n",
    "\n",
    "import nltk \n",
    "from nltk.corpus import stopwords\n",
    "nltk.download('stopwords')\n",
    "nltk.download('punkt')\n",
    "nltk.download('wordnet')\n",
    "\n",
    "import os\n",
    "import re\n",
    "import string\n",
    "import time\n",
    "import pickle\n",
    "import pydot\n",
    "import graphviz\n",
    "from bs4 import BeautifulSoup\n",
    "from textblob import TextBlob\n",
    "from textblob import Word\n",
    "\n",
    "import warnings\n",
    "warnings.simplefilter('ignore')"
   ]
  },
  {
   "cell_type": "markdown",
   "metadata": {},
   "source": [
    "#### Configurations"
   ]
  },
  {
   "cell_type": "code",
   "execution_count": 2,
   "metadata": {},
   "outputs": [],
   "source": [
    "pd.options.display.max_colwidth=700\n",
    "pd.set_option('display.max_rows', 2000)\n",
    "\n",
    "mpl.rcParams['axes.spines.right'] = False\n",
    "mpl.rcParams['axes.spines.left'] = False\n",
    "mpl.rcParams['axes.spines.top'] = False\n",
    "mpl.rcParams['ytick.left'] = False\n",
    "mpl.rcParams['ytick.right'] = False\n",
    "mpl.rcParams['xtick.major.width'] = 0\n",
    "mpl.rcParams.update({'font.size': 14})\n",
    "mpl.rcParams['lines.linewidth'] = 3"
   ]
  },
  {
   "cell_type": "markdown",
   "metadata": {},
   "source": [
    "##### Import data"
   ]
  },
  {
   "cell_type": "code",
   "execution_count": 3,
   "metadata": {},
   "outputs": [
    {
     "data": {
      "text/html": [
       "<div>\n",
       "<style scoped>\n",
       "    .dataframe tbody tr th:only-of-type {\n",
       "        vertical-align: middle;\n",
       "    }\n",
       "\n",
       "    .dataframe tbody tr th {\n",
       "        vertical-align: top;\n",
       "    }\n",
       "\n",
       "    .dataframe thead th {\n",
       "        text-align: right;\n",
       "    }\n",
       "</style>\n",
       "<table border=\"1\" class=\"dataframe\">\n",
       "  <thead>\n",
       "    <tr style=\"text-align: right;\">\n",
       "      <th></th>\n",
       "      <th>text</th>\n",
       "      <th>sentiment</th>\n",
       "    </tr>\n",
       "  </thead>\n",
       "  <tbody>\n",
       "    <tr>\n",
       "      <th>0</th>\n",
       "      <td>One of the other reviewers has mentioned that after watching just 1 Oz episode you'll be hooked. They are right, as this is exactly what happened with me.&lt;br /&gt;&lt;br /&gt;The first thing that struck me about Oz was its brutality and unflinching scenes of violence, which set in right from the word GO. Trust me, this is not a show for the faint hearted or timid. This show pulls no punches with regards to drugs, sex or violence. Its is hardcore, in the classic use of the word.&lt;br /&gt;&lt;br /&gt;It is called OZ as that is the nickname given to the Oswald Maximum Security State Penitentary. It focuses mainly on Emerald City, an experimental section of the prison where all the cells have glass fronts and ...</td>\n",
       "      <td>positive</td>\n",
       "    </tr>\n",
       "  </tbody>\n",
       "</table>\n",
       "</div>"
      ],
      "text/plain": [
       "                                                                                                                                                                                                                                                                                                                                                                                                                                                                                                                                                                                                                                                                                                                          text  \\\n",
       "0  One of the other reviewers has mentioned that after watching just 1 Oz episode you'll be hooked. They are right, as this is exactly what happened with me.<br /><br />The first thing that struck me about Oz was its brutality and unflinching scenes of violence, which set in right from the word GO. Trust me, this is not a show for the faint hearted or timid. This show pulls no punches with regards to drugs, sex or violence. Its is hardcore, in the classic use of the word.<br /><br />It is called OZ as that is the nickname given to the Oswald Maximum Security State Penitentary. It focuses mainly on Emerald City, an experimental section of the prison where all the cells have glass fronts and ...   \n",
       "\n",
       "  sentiment  \n",
       "0  positive  "
      ]
     },
     "execution_count": 3,
     "metadata": {},
     "output_type": "execute_result"
    }
   ],
   "source": [
    "df = pd.read_csv('IMDB Dataset.csv', encoding='ISO-8859-1')          # Read data\n",
    "df = df.rename(columns={'review':'text'})                            # Rename column names\n",
    "df.head(1)"
   ]
  },
  {
   "cell_type": "markdown",
   "metadata": {},
   "source": [
    "#### Visualizing sentiments\n",
    "\n",
    "Visualizing the sentiments helps to determine whether the dataset is balanced or not. As seen from the grah below, the dataset is evenly balanced and hence we don't need to do any rebalancing for the training set later on."
   ]
  },
  {
   "cell_type": "code",
   "execution_count": 4,
   "metadata": {},
   "outputs": [],
   "source": [
    "def sentiment_distribution(data):\n",
    "    \n",
    "    fig, ax = plt.subplots(1, 1, figsize=(5, 5))\n",
    "    keys, counts = np.unique(data, return_counts=True)\n",
    "    ax.bar(keys, counts, color=['dimgrey', 'lightgrey'], width=.9) \n",
    "    ax.set_title('Sentiment absolute distribution') \n",
    "    ax.set_ylabel('Count')\n",
    "    plt.show()"
   ]
  },
  {
   "cell_type": "code",
   "execution_count": 5,
   "metadata": {},
   "outputs": [
    {
     "data": {
      "image/png": "[encoded data removed]",
      "text/plain": [
       "<Figure size 360x360 with 1 Axes>"
      ]
     },
     "metadata": {
      "needs_background": "light"
     },
     "output_type": "display_data"
    }
   ],
   "source": [
    "sentiment_distribution(df['sentiment'])"
   ]
  },
  {
   "cell_type": "markdown",
   "metadata": {},
   "source": [
    "##### Visualizing word count distribution"
   ]
  },
  {
   "cell_type": "code",
   "execution_count": 6,
   "metadata": {},
   "outputs": [],
   "source": [
    "def word_counts_per_doc(text):\n",
    "    fig, ax = plt.subplots(1, 1, figsize=(10,5))\n",
    "\n",
    "    word_counts = text.apply(lambda x: len(str(x).split()))\n",
    "    ax.hist(word_counts, bins=50, color='royalblue',edgecolor='black')\n",
    "    ax.axvline(word_counts.mean(), color='firebrick', linestyle='dashed')\n",
    "    ax.set_title('Distribution of word counts')\n",
    "    ax.set_ylabel('Count')\n",
    "    ax.set_xlabel('Number of words')\n",
    "    plt.show()"
   ]
  },
  {
   "cell_type": "code",
   "execution_count": 7,
   "metadata": {},
   "outputs": [
    {
     "data": {
      "image/png": "[encoded data removed]",
      "text/plain": [
       "<Figure size 720x360 with 1 Axes>"
      ]
     },
     "metadata": {
      "needs_background": "light"
     },
     "output_type": "display_data"
    }
   ],
   "source": [
    "word_counts_per_doc(df['text'])"
   ]
  },
  {
   "cell_type": "markdown",
   "metadata": {},
   "source": [
    "#### Pre-process data for the model\n",
    "\n",
    " 1. Clear data\n",
    " 2. Convert everything into lowercase\n",
    " 3. Remove rarest and most common words\n",
    " 4. Remove punctuations\n",
    " 5. Remove numbers\n",
    " 6. Lemmatize text\n",
    " 7. Remove stopwords\n",
    " 8. Tokenize the data"
   ]
  },
  {
   "cell_type": "markdown",
   "metadata": {},
   "source": [
    "##### Clear data"
   ]
  },
  {
   "cell_type": "code",
   "execution_count": 8,
   "metadata": {},
   "outputs": [],
   "source": [
    "def denoise_data(text):\n",
    "    '''\n",
    "    Remove unnecessary linebreaks \"\\n\" and replace it with an empty space\n",
    "    Remove single characters and replace them with an empty space\n",
    "    Remove multiple spaces and replace them with an empty space\n",
    "    Remove square brackets and replace them with an empty space\n",
    "    Remove html tags with BeautifulSoup\n",
    "    '''   \n",
    "    text = text.replace('\\n', '')    \n",
    "    text = re.sub(r\"\\s+[a-zA-Z]\\s+\", ' ',text)\n",
    "    text = re.sub(r'\\s+', ' ', text)\n",
    "    text = re.sub('\\[[^]]*\\]', '', text)\n",
    "    text = BeautifulSoup(text, 'lxml').text\n",
    "    return text"
   ]
  },
  {
   "cell_type": "markdown",
   "metadata": {},
   "source": [
    "##### Convert everything into lowercase"
   ]
  },
  {
   "cell_type": "code",
   "execution_count": 9,
   "metadata": {},
   "outputs": [],
   "source": [
    "def lowercase(text):\n",
    "    '''\n",
    "    This ensures same words are treated equally e.g. \"Banana\" and \"banana\"\n",
    "    '''\n",
    "    return text.apply(lambda sentence: sentence.lower())"
   ]
  },
  {
   "cell_type": "markdown",
   "metadata": {},
   "source": [
    "##### Remove punctuations"
   ]
  },
  {
   "cell_type": "code",
   "execution_count": 10,
   "metadata": {},
   "outputs": [],
   "source": [
    "def remove_punctuations(text):\n",
    "    '''\n",
    "    Special characters, such as !@#? can create unwanted noise as they do not contribute much or at all\n",
    "    to the sentiments. Therefore remove punctuations and replace them with an empty space\n",
    "    '''\n",
    "    for punctuation in string.punctuation:\n",
    "        text = text.replace(punctuation, '')\n",
    "    return text"
   ]
  },
  {
   "cell_type": "markdown",
   "metadata": {},
   "source": [
    "##### Remove numbers"
   ]
  },
  {
   "cell_type": "code",
   "execution_count": 11,
   "metadata": {},
   "outputs": [],
   "source": [
    "def remove_numbers(df):\n",
    "    '''\n",
    "    Numbers typically do not hold sentimental value therefore remove numbers,\n",
    "    such as year, dates, times etc. However, in this particular setting, one \n",
    "    needs to be careful because in review data there could be sentences like\n",
    "    \"I give this movies a 5/5 rating\"\n",
    "    '''\n",
    "    text = ''.join(word for word in df if not word.isdigit())\n",
    "    return text"
   ]
  },
  {
   "cell_type": "markdown",
   "metadata": {},
   "source": [
    "##### Lemmatize text"
   ]
  },
  {
   "cell_type": "code",
   "execution_count": 12,
   "metadata": {},
   "outputs": [],
   "source": [
    "def lemmatize(df):\n",
    "    '''\n",
    "    Lemmatize text so that same words are treated equally e.g. \"bananas\" becomes \"banana\"\n",
    "    '''\n",
    "    return df.apply(lambda x: ' '.join([Word(word).lemmatize() for word in x.split()]))"
   ]
  },
  {
   "cell_type": "markdown",
   "metadata": {},
   "source": [
    "#### Remove stopwords"
   ]
  },
  {
   "cell_type": "code",
   "execution_count": 13,
   "metadata": {},
   "outputs": [],
   "source": [
    "def remove_stopwords(df):\n",
    "    '''\n",
    "    These are most commonly occuring words, such as \"the\", \"is\",\n",
    "    which typically do not provide additional* information value for the model.\n",
    "    '''\n",
    "    stop_words = set(stopwords.words('english'))\n",
    "    return df.apply(lambda x: [item for item in x.split() if item not in stop_words])"
   ]
  },
  {
   "cell_type": "code",
   "execution_count": 14,
   "metadata": {},
   "outputs": [
    {
     "data": {
      "text/html": [
       "<div>\n",
       "<style scoped>\n",
       "    .dataframe tbody tr th:only-of-type {\n",
       "        vertical-align: middle;\n",
       "    }\n",
       "\n",
       "    .dataframe tbody tr th {\n",
       "        vertical-align: top;\n",
       "    }\n",
       "\n",
       "    .dataframe thead th {\n",
       "        text-align: right;\n",
       "    }\n",
       "</style>\n",
       "<table border=\"1\" class=\"dataframe\">\n",
       "  <thead>\n",
       "    <tr style=\"text-align: right;\">\n",
       "      <th></th>\n",
       "      <th>text</th>\n",
       "      <th>sentiment</th>\n",
       "    </tr>\n",
       "  </thead>\n",
       "  <tbody>\n",
       "    <tr>\n",
       "      <th>0</th>\n",
       "      <td>[one, reviewer, ha, mentioned, watching, oz, episode, youll, hooked, right, exactly, happened, methe, first, thing, struck, oz, wa, brutality, unflinching, scene, violence, set, right, word, go, trust, show, faint, hearted, timid, show, pull, punch, regard, drug, sex, violence, hardcore, classic, use, wordit, called, oz, nickname, given, oswald, maximum, security, state, penitentary, focus, mainly, emerald, city, experimental, section, prison, cell, glass, front, face, inwards, privacy, high, agenda, em, city, home, manyaryans, muslim, gangsta, latino, christian, italian, irish, moreso, scuffle, death, stare, dodgy, dealing, shady, agreement, never, far, awayi, would, say, main, appeal, ...</td>\n",
       "      <td>positive</td>\n",
       "    </tr>\n",
       "  </tbody>\n",
       "</table>\n",
       "</div>"
      ],
      "text/plain": [
       "                                                                                                                                                                                                                                                                                                                                                                                                                                                                                                                                                                                                                                                                                                                          text  \\\n",
       "0  [one, reviewer, ha, mentioned, watching, oz, episode, youll, hooked, right, exactly, happened, methe, first, thing, struck, oz, wa, brutality, unflinching, scene, violence, set, right, word, go, trust, show, faint, hearted, timid, show, pull, punch, regard, drug, sex, violence, hardcore, classic, use, wordit, called, oz, nickname, given, oswald, maximum, security, state, penitentary, focus, mainly, emerald, city, experimental, section, prison, cell, glass, front, face, inwards, privacy, high, agenda, em, city, home, manyaryans, muslim, gangsta, latino, christian, italian, irish, moreso, scuffle, death, stare, dodgy, dealing, shady, agreement, never, far, awayi, would, say, main, appeal, ...   \n",
       "\n",
       "  sentiment  \n",
       "0  positive  "
      ]
     },
     "execution_count": 14,
     "metadata": {},
     "output_type": "execute_result"
    }
   ],
   "source": [
    "df['text'] = df['text'].apply(denoise_data)                   # \n",
    "df['text'] = lowercase(df['text'])                            #\n",
    "df['text'] = df['text'].apply(remove_punctuations)            # \n",
    "df['text'] = df['text'].apply(remove_numbers)                 # IMBD \n",
    "df['text'] = lemmatize(df['text'])                            #\n",
    "df['text'] = remove_stopwords(df['text'])                     #\n",
    "df.head(1)"
   ]
  },
  {
   "cell_type": "markdown",
   "metadata": {},
   "source": [
    "##### Ready train, val and test sets"
   ]
  },
  {
   "cell_type": "code",
   "execution_count": 15,
   "metadata": {},
   "outputs": [],
   "source": [
    "max_length = 500                                      # Max length for the input layer                                           \n",
    "training_samples = 37000                              # Trains on 37000 samples\n",
    "validation_samples = 13000                            # Validates on 13000 samples \n",
    "top_words = 10000                                     # Consider only the top 10000 words in the dataset "
   ]
  },
  {
   "cell_type": "code",
   "execution_count": 16,
   "metadata": {},
   "outputs": [],
   "source": [
    "def tokenize(text, top_words):\n",
    "    tokenizer = Tokenizer(num_words=top_words)        # Creates a tokenizer configured to only account for top words\n",
    "    tokenizer.fit_on_texts(text)                      # Builds the word index\n",
    "    return tokenizer"
   ]
  },
  {
   "cell_type": "code",
   "execution_count": 17,
   "metadata": {},
   "outputs": [],
   "source": [
    "def encode_text(tokenizer, text, max_length):\n",
    "    sequences = tokenizer.texts_to_sequences(text)    # Converts strings into lists of integer indices\n",
    "    X = pad_sequences(sequences, maxlen=max_length)   # Converts the lists of integers into a 2D integer tensor\n",
    "    return X"
   ]
  },
  {
   "cell_type": "code",
   "execution_count": 18,
   "metadata": {},
   "outputs": [],
   "source": [
    "def binarize_label(y):\n",
    "    y = np.asarray(y)                                 # Converts the target label into numpy \n",
    "    encoder = LabelEncoder()                          # \n",
    "    encoder.fit(y)                                    # Binarize the target label\n",
    "    y = encoder.transform(y)                          #\n",
    "    return y"
   ]
  },
  {
   "cell_type": "code",
   "execution_count": 19,
   "metadata": {},
   "outputs": [],
   "source": [
    "y = binarize_label(df['sentiment'])                               # Call function binarize_label\n",
    "X = df['text']                                                    # Define X matrix\n",
    "X_train = X[:training_samples]                                    # Define train data matrix \n",
    "y_train = y[:training_samples]                                    # Define train label vector \n",
    "X_val = X[training_samples : training_samples+validation_samples] # Define val data matrix \n",
    "y_val = y[training_samples : training_samples+validation_samples] # Define val label vector "
   ]
  },
  {
   "cell_type": "code",
   "execution_count": 20,
   "metadata": {},
   "outputs": [],
   "source": [
    "tokenizer = tokenize(X_train, top_words)                          # Call function tokenize\n",
    "X_train = encode_text(tokenizer, X_train, max_length)             # Call function encode_text\n",
    "X_val = encode_text(tokenizer, X_val, max_length)                 # Call function encode_text"
   ]
  },
  {
   "cell_type": "code",
   "execution_count": 21,
   "metadata": {},
   "outputs": [
    {
     "name": "stdout",
     "output_type": "stream",
     "text": [
      "There are 168790 unique tokens\n",
      "X train tensor has 37000 rows and 500 columns\n",
      "X val tensor has 13000 rows and 500 columns\n",
      "Shape of label tensor 50000\n"
     ]
    }
   ],
   "source": [
    "word_index = tokenizer.word_index                             # How one can recover the word index that was computed.\n",
    "print('There are {:d} unique tokens'.format(len(word_index))) # here we use it to calculate the n of unique tokens\n",
    "print('X train tensor has {:d} rows and {:d} columns'.format(*X_train.shape)) # Print shape of X matrix\n",
    "print('X val tensor has {:d} rows and {:d} columns'.format(*X_val.shape))     # Print shape of X matrix\n",
    "print('Shape of label tensor {:d}'.format(*y.shape))                          # print shape of y vector"
   ]
  },
  {
   "cell_type": "markdown",
   "metadata": {},
   "source": [
    "#### Network architecture\n",
    "\n",
    "\n",
    "**Starting layers**\n",
    "\n",
    "```Embedding``` I define an mean embedding layer with three parameters: first, 10000 as the number of possible tokens (top 10000 most occuring words), 128 as the the dimensionality of the embeddings and max_length of 500.\n",
    "\n",
    "```LSTM+CNN``` https://arxiv.org/pdf/1511.08630.pdf\n",
    "\n",
    "**Last layer**\n",
    "\n",
    "Because this is a binary classifier, I use sigmoid function in the last layer as it will output a scalar prediction regarding the sentiment of the current review.\n",
    "\n",
    "**Loss function**\n",
    "\n",
    "```Binary crossentropy```Again, because this is a binary problem and the output of the network is a probability, it is best to use binary_crossentropy loss. Here, we could also use mean squared error, but the binary crossentropy loss is more feasible as we deal with a model that outputs probabilitites.\n",
    "\n",
    "**Optimizer**\n",
    "\n",
    "```rmsprop``` I use rmsprop optimizer as it performs well in general. I define decay to decrease the learning rate over time. Importantly, it also much faster than for example adam optimizer."
   ]
  },
  {
   "cell_type": "code",
   "execution_count": 22,
   "metadata": {},
   "outputs": [],
   "source": [
    "def nlp_model():\n",
    "    input_1 = Input(shape=(max_length,), dtype='int32')\n",
    "    embedding = Embedding(top_words, 128)(input_1)   \n",
    "    \n",
    "    x = Conv1D(64, 3, padding='same', activation='relu')(embedding)\n",
    "    x = MaxPool1D(2, padding='same')(x)  \n",
    "    x = LSTM(64)(x)\n",
    "    x = Dropout(0.1)(x)\n",
    "    x = Dense(32, activation='relu')(x)\n",
    "    x = Dropout(0.1)(x)\n",
    "    x = Dense(1, activation='sigmoid')(x)\n",
    "\n",
    "    model = Model(inputs=input_1, outputs=x)    \n",
    "    rmsprop = optimizers.RMSprop(lr=0.001, decay=1e-5)\n",
    "    model.compile(optimizer=rmsprop, loss='binary_crossentropy', metrics=['acc', Precision(), Recall()]) \n",
    "    model.summary()\n",
    "    return model "
   ]
  },
  {
   "cell_type": "code",
   "execution_count": 23,
   "metadata": {
    "scrolled": false
   },
   "outputs": [
    {
     "name": "stdout",
     "output_type": "stream",
     "text": [
      "Model: \"model\"\n",
      "_________________________________________________________________\n",
      "Layer (type)                 Output Shape              Param #   \n",
      "=================================================================\n",
      "input_1 (InputLayer)         [(None, 500)]             0         \n",
      "_________________________________________________________________\n",
      "embedding (Embedding)        (None, 500, 128)          1280000   \n",
      "_________________________________________________________________\n",
      "conv1d (Conv1D)              (None, 500, 64)           24640     \n",
      "_________________________________________________________________\n",
      "max_pooling1d (MaxPooling1D) (None, 250, 64)           0         \n",
      "_________________________________________________________________\n",
      "lstm (LSTM)                  (None, 64)                33024     \n",
      "_________________________________________________________________\n",
      "dropout (Dropout)            (None, 64)                0         \n",
      "_________________________________________________________________\n",
      "dense (Dense)                (None, 32)                2080      \n",
      "_________________________________________________________________\n",
      "dropout_1 (Dropout)          (None, 32)                0         \n",
      "_________________________________________________________________\n",
      "dense_1 (Dense)              (None, 1)                 33        \n",
      "=================================================================\n",
      "Total params: 1,339,777\n",
      "Trainable params: 1,339,777\n",
      "Non-trainable params: 0\n",
      "_________________________________________________________________\n",
      "Epoch 1/3\n",
      "579/579 [==============================] - 281s 486ms/step - loss: 0.3435 - acc: 0.8531 - precision: 0.8456 - recall: 0.8637 - val_loss: 0.4478 - val_acc: 0.8269 - val_precision: 0.9559 - val_recall: 0.6862\n",
      "Epoch 2/3\n",
      "579/579 [==============================] - 212s 366ms/step - loss: 0.2337 - acc: 0.9099 - precision: 0.9095 - recall: 0.9103 - val_loss: 0.3409 - val_acc: 0.8675 - val_precision: 0.8163 - val_recall: 0.9490\n",
      "Epoch 3/3\n",
      "579/579 [==============================] - 263s 454ms/step - loss: 0.1933 - acc: 0.9289 - precision: 0.9289 - recall: 0.9287 - val_loss: 0.2835 - val_acc: 0.8847 - val_precision: 0.9223 - val_recall: 0.8406\n",
      "Execution time 12.728000 minutes\n"
     ]
    }
   ],
   "source": [
    "start_time = time.time()                                                         # Iniate time\n",
    "callbacks_list = [                                                               # Apply early stopping to stop\n",
    "    EarlyStopping(                                                               # training when the validation loss\n",
    "    monitor='val_loss',                                                          # starts to increase during epochs\n",
    "    patience=1)\n",
    "]\n",
    "model = nlp_model()                                                              # Call the nlp model\n",
    "history = model.fit(                                                             # Fit the model\n",
    "    [X_train], y_train,\n",
    "    validation_data=([X_val], y_val),\n",
    "    epochs=3, batch_size=64, \n",
    "    callbacks=callbacks_list)\n",
    " \n",
    "total_time = (time.time() - start_time)/60                                       # Calculate the total time that it \n",
    "print('Execution time {:2f} minutes'.format(total_time))                         # took to train the model in minutes\n",
    "model.save('sentiment_model_B.h5')                                               # Save the model to a hdf5 file"
   ]
  },
  {
   "cell_type": "markdown",
   "metadata": {},
   "source": [
    "##### Make predictions"
   ]
  },
  {
   "cell_type": "code",
   "execution_count": 24,
   "metadata": {},
   "outputs": [],
   "source": [
    "with open('tokenizer_B.pickle', 'wb') as handle:                              # Save the tokenizer to a pickle file\n",
    "    pickle.dump(tokenizer, handle, protocol=pickle.HIGHEST_PROTOCOL) \n",
    "with open('tokenizer_B.pickle', 'rb') as handle:                              # Access the tokenizer\n",
    "    loaded_tokenizer = pickle.load(handle)"
   ]
  },
  {
   "cell_type": "code",
   "execution_count": 25,
   "metadata": {},
   "outputs": [],
   "source": [
    "def predict(text):\n",
    "    '''\n",
    "    The closer the number gets to 1, the 'more' positive the sentiment and vice versa.\n",
    "    '''\n",
    "    model = models.load_model('sentiment_model_B.h5', custom_objects={'backend':K})\n",
    "    seq = loaded_tokenizer.texts_to_sequences([text])\n",
    "    padded = pad_sequences(seq, maxlen=max_length)\n",
    "    pred = model.predict(padded)\n",
    "    print(np.mean(pred))"
   ]
  },
  {
   "cell_type": "code",
   "execution_count": 26,
   "metadata": {},
   "outputs": [
    {
     "name": "stdout",
     "output_type": "stream",
     "text": [
      "0.9744872\n"
     ]
    }
   ],
   "source": [
    "predict(\"this is a great movie. i like it where ning climbs down to get his ink, \\\n",
    "        and the skeletons chase him, but luckily he dodged them, opened the window, \\\n",
    "        and didn't even notice them. xiao qian is very pretty too. \\\n",
    "        & when he stuck the needle up ma Wu's butt, its hysterical. \\\n",
    "        and when he is saying love is the greatest thing on earth while standing between two swords is great too. \\\n",
    "        then also the part where he eats his buns while watching thew guy kill many people. \\\n",
    "        then you see him chanting poems as he ran to escape the wolves. the love scenes are romantic, \\\n",
    "        xiao qian and ning look cute together. add the comic timing, the giant tongue, and u have horror, \\\n",
    "        romance, comedy, all at once. not to mention superb special effects for the 90s.\")"
   ]
  },
  {
   "cell_type": "code",
   "execution_count": 27,
   "metadata": {},
   "outputs": [
    {
     "name": "stdout",
     "output_type": "stream",
     "text": [
      "0.0023852705\n"
     ]
    }
   ],
   "source": [
    "predict(\"We brought this film as a joke for a friend, and could of been our worst joke to play. \\\n",
    "        The film is barely watchable, and the acting is dire. \\\n",
    "        The worst child actor ever used and Hasslehoff giving a substandard performance. \\\n",
    "        The plot is disgraceful and at points we was so bored we was wondering what the hell was going on. \\\n",
    "        It tries to be gruesome in places but is just laughable.<br /><br />Just terrible\")"
   ]
  },
  {
   "cell_type": "code",
   "execution_count": 28,
   "metadata": {},
   "outputs": [
    {
     "name": "stdout",
     "output_type": "stream",
     "text": [
      "0.8575243\n"
     ]
    }
   ],
   "source": [
    "predict('Enjoyable movie')"
   ]
  },
  {
   "cell_type": "code",
   "execution_count": 29,
   "metadata": {},
   "outputs": [
    {
     "name": "stdout",
     "output_type": "stream",
     "text": [
      "0.068218686\n"
     ]
    }
   ],
   "source": [
    "predict('Dreadful, Wouldnt recommend')"
   ]
  },
  {
   "cell_type": "code",
   "execution_count": 30,
   "metadata": {},
   "outputs": [
    {
     "name": "stdout",
     "output_type": "stream",
     "text": [
      "0.05621628\n"
     ]
    }
   ],
   "source": [
    "predict('Dreadful, Would not recommend')"
   ]
  },
  {
   "cell_type": "code",
   "execution_count": 31,
   "metadata": {},
   "outputs": [
    {
     "name": "stdout",
     "output_type": "stream",
     "text": [
      "0.39366955\n"
     ]
    }
   ],
   "source": [
    "predict('Killer movie, I would recommend for sure')"
   ]
  },
  {
   "cell_type": "code",
   "execution_count": 32,
   "metadata": {},
   "outputs": [
    {
     "name": "stdout",
     "output_type": "stream",
     "text": [
      "0.5951791\n"
     ]
    }
   ],
   "source": [
    "predict('Killer movie, I recommend yall to watch it right now')"
   ]
  },
  {
   "cell_type": "code",
   "execution_count": 33,
   "metadata": {},
   "outputs": [
    {
     "name": "stdout",
     "output_type": "stream",
     "text": [
      "0.76919985\n"
     ]
    }
   ],
   "source": [
    "predict('I liked this movie')"
   ]
  },
  {
   "cell_type": "code",
   "execution_count": 34,
   "metadata": {},
   "outputs": [
    {
     "name": "stdout",
     "output_type": "stream",
     "text": [
      "0.4477731\n"
     ]
    }
   ],
   "source": [
    "predict('I did not like this movie')"
   ]
  },
  {
   "cell_type": "code",
   "execution_count": 35,
   "metadata": {},
   "outputs": [
    {
     "name": "stdout",
     "output_type": "stream",
     "text": [
      "0.5814524\n"
     ]
    }
   ],
   "source": [
    "predict('I did not enjoy it at all')"
   ]
  },
  {
   "cell_type": "code",
   "execution_count": 36,
   "metadata": {},
   "outputs": [
    {
     "name": "stdout",
     "output_type": "stream",
     "text": [
      "0.51997656\n"
     ]
    }
   ],
   "source": [
    "predict('good movie overall, I could watch it again')"
   ]
  },
  {
   "cell_type": "code",
   "execution_count": 37,
   "metadata": {},
   "outputs": [
    {
     "name": "stdout",
     "output_type": "stream",
     "text": [
      "0.64890635\n"
     ]
    }
   ],
   "source": [
    "predict('It was quite good towards the end')"
   ]
  },
  {
   "cell_type": "code",
   "execution_count": 38,
   "metadata": {},
   "outputs": [
    {
     "name": "stdout",
     "output_type": "stream",
     "text": [
      "0.6526064\n"
     ]
    }
   ],
   "source": [
    "predict('Worth watching')"
   ]
  },
  {
   "cell_type": "code",
   "execution_count": 39,
   "metadata": {},
   "outputs": [
    {
     "name": "stdout",
     "output_type": "stream",
     "text": [
      "0.412328\n"
     ]
    }
   ],
   "source": [
    "predict('Not watching that again, yikes')"
   ]
  },
  {
   "cell_type": "code",
   "execution_count": 40,
   "metadata": {},
   "outputs": [
    {
     "name": "stdout",
     "output_type": "stream",
     "text": [
      "0.8311755\n"
     ]
    }
   ],
   "source": [
    "predict('Fantastic movie')"
   ]
  },
  {
   "cell_type": "code",
   "execution_count": 41,
   "metadata": {},
   "outputs": [
    {
     "name": "stdout",
     "output_type": "stream",
     "text": [
      "0.6201226\n"
     ]
    }
   ],
   "source": [
    "predict('Good movie')"
   ]
  },
  {
   "cell_type": "code",
   "execution_count": 42,
   "metadata": {},
   "outputs": [
    {
     "name": "stdout",
     "output_type": "stream",
     "text": [
      "0.12793513\n"
     ]
    }
   ],
   "source": [
    "predict('bad movie')"
   ]
  },
  {
   "cell_type": "code",
   "execution_count": 43,
   "metadata": {},
   "outputs": [
    {
     "name": "stdout",
     "output_type": "stream",
     "text": [
      "0.031002998\n"
     ]
    }
   ],
   "source": [
    "predict('lousy movie')"
   ]
  },
  {
   "cell_type": "code",
   "execution_count": 44,
   "metadata": {},
   "outputs": [
    {
     "name": "stdout",
     "output_type": "stream",
     "text": [
      "0.84174764\n"
     ]
    }
   ],
   "source": [
    "predict('I havent enjoyed a movie such as this for a long time')"
   ]
  },
  {
   "cell_type": "markdown",
   "metadata": {},
   "source": [
    "The longer the review, the easier it is for the model to identify the sentiment"
   ]
  },
  {
   "cell_type": "code",
   "execution_count": null,
   "metadata": {},
   "outputs": [],
   "source": []
  },
  {
   "cell_type": "code",
   "execution_count": null,
   "metadata": {},
   "outputs": [],
   "source": []
  }
 ],
 "metadata": {
  "kernelspec": {
   "display_name": "Python 3",
   "language": "python",
   "name": "python3"
  },
  "language_info": {
   "codemirror_mode": {
    "name": "ipython",
    "version": 3
   },
   "file_extension": ".py",
   "mimetype": "text/x-python",
   "name": "python",
   "nbconvert_exporter": "python",
   "pygments_lexer": "ipython3",
   "version": "3.7.10"
  },
  "varInspector": {
   "cols": {
    "lenName": 16,
    "lenType": 16,
    "lenVar": 40
   },
   "kernels_config": {
    "python": {
     "delete_cmd_postfix": "",
     "delete_cmd_prefix": "del ",
     "library": "var_list.py",
     "varRefreshCmd": "print(var_dic_list())"
    },
    "r": {
     "delete_cmd_postfix": ") ",
     "delete_cmd_prefix": "rm(",
     "library": "var_list.r",
     "varRefreshCmd": "cat(var_dic_list()) "
    }
   },
   "types_to_exclude": [
    "module",
    "function",
    "builtin_function_or_method",
    "instance",
    "_Feature"
   ],
   "window_display": false
  }
 },
 "nbformat": 4,
 "nbformat_minor": 2
}
